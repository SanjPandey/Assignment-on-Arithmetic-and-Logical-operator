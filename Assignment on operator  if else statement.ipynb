{
 "cells": [
  {
   "cell_type": "markdown",
   "id": "2ca0832b",
   "metadata": {},
   "source": [
    "# Assignment on operator an Logical operator"
   ]
  },
  {
   "cell_type": "code",
   "execution_count": null,
   "id": "625f7950",
   "metadata": {},
   "outputs": [],
   "source": [
    "# get input from user and check the data type , if it is string , check its is alphabet or numbr\n",
    "#123\n",
    "#string\n",
    "#digit\n",
    "\n",
    "#sachin\n",
    "#string\n",
    "#aplhabet\n",
    "\n",
    "#sachin123\n",
    "#string\n",
    "#not a digit , not a alphabet"
   ]
  },
  {
   "cell_type": "code",
   "execution_count": 14,
   "id": "983111c1",
   "metadata": {},
   "outputs": [
    {
     "name": "stdout",
     "output_type": "stream",
     "text": [
      "Enter something: ankit123\n",
      "string\n",
      "not a digit, not an alphabet\n"
     ]
    }
   ],
   "source": [
    "\n",
    "user_input = input(\"Enter something: \")\n",
    "\n",
    "# Check if the input is a digit\n",
    "if user_input.isdigit():\n",
    "    print(\"string\")\n",
    "    print(\"digit\")\n",
    "# Check if the input is an alphabet\n",
    "elif user_input.isalpha():\n",
    "    print(\"string\")\n",
    "    print(\"alphabet\")\n",
    "# Check if the input is a combination of digits and alphabets\n",
    "else:\n",
    "    print(\"string\")\n",
    "    print(\"not a digit, not an alphabet\")"
   ]
  },
  {
   "cell_type": "code",
   "execution_count": null,
   "id": "6ce9708b",
   "metadata": {},
   "outputs": [],
   "source": [
    "#traffic ligt -> red/green/yellow\n",
    "#police -> yes/no\n",
    "\n",
    "# police yes, singal is red stop\n",
    "# police no, singal is red go\n",
    "# police yes, singal is yellow slow down\n",
    "# police no, singal is yellow go\n",
    "#signal green , go"
   ]
  },
  {
   "cell_type": "code",
   "execution_count": 16,
   "id": "39d8ea3f",
   "metadata": {},
   "outputs": [
    {
     "name": "stdout",
     "output_type": "stream",
     "text": [
      "Enter the traffic signal color (red/green/yellow): green\n",
      "Is the police present? (yes/no): no\n",
      "Signal is green, you can go.\n"
     ]
    }
   ],
   "source": [
    "\n",
    "signal_color = input(\"Enter the traffic signal color (red/green/yellow): \").lower()\n",
    "police_presence = input(\"Is the police present? (yes/no): \").lower()\n",
    "\n",
    "if signal_color == \"red\":\n",
    "    if police_presence == \"yes\":\n",
    "        print(\"Police present, signal is red, STOP!\")\n",
    "    else:\n",
    "        print(\"No police, signal is red, you can go.\")\n",
    "elif signal_color == \"yellow\":\n",
    "    if police_presence == \"yes\":\n",
    "        print(\"Police present, signal is yellow, SLOW DOWN!\")\n",
    "    else:\n",
    "        print(\"No police, signal is yellow, you can go.\")\n",
    "elif signal_color == \"green\":\n",
    "    print(\"Signal is green, you can go.\")\n",
    "else:\n",
    "    print(\"Invalid signal color.\")"
   ]
  },
  {
   "cell_type": "code",
   "execution_count": 17,
   "id": "0dada22d",
   "metadata": {},
   "outputs": [
    {
     "name": "stdout",
     "output_type": "stream",
     "text": [
      "{'Fruit': 'Orange', 'Bike': 'Hero Splendor', 'Drink': 'Pepsi'}\n"
     ]
    }
   ],
   "source": [
    "original_dict = {\"Apple\": \"Fruit\", \"Orange\": \"Fruit\", \"Hero Splendor\": \"Bike\", \"Pepsi\": \"Drink\"}\n",
    "\n",
    "swapped_dict = {value: key for key, value in original_dict.items()}\n",
    "\n",
    "print(swapped_dict)"
   ]
  },
  {
   "cell_type": "code",
   "execution_count": 18,
   "id": "cbb20c22",
   "metadata": {},
   "outputs": [
    {
     "name": "stdout",
     "output_type": "stream",
     "text": [
      "Flowers: ['Belflower', 'Daffodil']\n",
      "Shrubs: ['Andromeda', 'LiLac']\n"
     ]
    }
   ],
   "source": [
    "data = [\"Andromeda - Shrub\", \"Belflower - Flower\", \"Daffodil - Flower\", \"LiLac - Shrub\"]\n",
    "\n",
    "flowers = []\n",
    "shrubs = []\n",
    "\n",
    "for item in data:\n",
    "    name, plant_type = item.split(\" - \")\n",
    "    if plant_type == \"Flower\":\n",
    "        flowers.append(name)\n",
    "    elif plant_type == \"Shrub\":\n",
    "        shrubs.append(name)\n",
    "\n",
    "print(\"Flowers:\", flowers)\n",
    "print(\"Shrubs:\", shrubs)"
   ]
  },
  {
   "cell_type": "code",
   "execution_count": null,
   "id": "72be20c7",
   "metadata": {},
   "outputs": [],
   "source": []
  }
 ],
 "metadata": {
  "kernelspec": {
   "display_name": "Python 3 (ipykernel)",
   "language": "python",
   "name": "python3"
  },
  "language_info": {
   "codemirror_mode": {
    "name": "ipython",
    "version": 3
   },
   "file_extension": ".py",
   "mimetype": "text/x-python",
   "name": "python",
   "nbconvert_exporter": "python",
   "pygments_lexer": "ipython3",
   "version": "3.11.5"
  }
 },
 "nbformat": 4,
 "nbformat_minor": 5
}
